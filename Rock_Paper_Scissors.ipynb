{
 "cells": [
  {
   "cell_type": "code",
   "execution_count": 1,
   "metadata": {},
   "outputs": [],
   "source": [
    "random_seed = 42"
   ]
  },
  {
   "cell_type": "markdown",
   "metadata": {
    "heading_collapsed": true
   },
   "source": [
    "# Read data and transform to csv with pandas"
   ]
  },
  {
   "cell_type": "code",
   "execution_count": 2,
   "metadata": {
    "hidden": true
   },
   "outputs": [
    {
     "data": {
      "text/plain": [
       "'C:/Users/pgrig/Desktop/gitglob/Rock_Paper_Scizors/rock'"
      ]
     },
     "execution_count": 2,
     "metadata": {},
     "output_type": "execute_result"
    }
   ],
   "source": [
    "rock_dir = \"C:/Users/pgrig/Desktop/gitglob/Rock_Paper_Scizors/rock\"\n",
    "rock_dir"
   ]
  },
  {
   "cell_type": "code",
   "execution_count": 3,
   "metadata": {
    "hidden": true
   },
   "outputs": [
    {
     "data": {
      "text/plain": [
       "'C:/Users/pgrig/Desktop/gitglob/Rock_Paper_Scizors/paper'"
      ]
     },
     "execution_count": 3,
     "metadata": {},
     "output_type": "execute_result"
    }
   ],
   "source": [
    "paper_dir = \"C:/Users/pgrig/Desktop/gitglob/Rock_Paper_Scizors/paper\"\n",
    "paper_dir"
   ]
  },
  {
   "cell_type": "code",
   "execution_count": 4,
   "metadata": {
    "hidden": true
   },
   "outputs": [
    {
     "data": {
      "text/plain": [
       "'C:/Users/pgrig/Desktop/gitglob/Rock_Paper_Scizors/scissors'"
      ]
     },
     "execution_count": 4,
     "metadata": {},
     "output_type": "execute_result"
    }
   ],
   "source": [
    "scissors_dir = \"C:/Users/pgrig/Desktop/gitglob/Rock_Paper_Scizors/scissors\"\n",
    "scissors_dir"
   ]
  },
  {
   "cell_type": "code",
   "execution_count": 5,
   "metadata": {
    "hidden": true
   },
   "outputs": [],
   "source": [
    "from PIL import Image"
   ]
  },
  {
   "cell_type": "code",
   "execution_count": 17,
   "metadata": {
    "hidden": true
   },
   "outputs": [],
   "source": [
    "import imageio"
   ]
  },
  {
   "cell_type": "code",
   "execution_count": 123,
   "metadata": {
    "hidden": true
   },
   "outputs": [
    {
     "data": {
      "text/plain": [
       "(200, 300, 3)"
      ]
     },
     "execution_count": 123,
     "metadata": {},
     "output_type": "execute_result"
    }
   ],
   "source": [
    "image = imageio.imread(r\"C:\\Users\\pgrig\\Desktop\\gitglob\\Rock_Paper_Scizors\\rock\\00nKV8oHuTGi20gq.png\")\n",
    "input_shape = image.shape\n",
    "input_shape"
   ]
  },
  {
   "cell_type": "code",
   "execution_count": 124,
   "metadata": {
    "hidden": true
   },
   "outputs": [],
   "source": [
    "import pandas as pd\n",
    "import numpy as np"
   ]
  },
  {
   "cell_type": "code",
   "execution_count": 125,
   "metadata": {
    "hidden": true
   },
   "outputs": [
    {
     "data": {
      "text/html": [
       "<div>\n",
       "<style scoped>\n",
       "    .dataframe tbody tr th:only-of-type {\n",
       "        vertical-align: middle;\n",
       "    }\n",
       "\n",
       "    .dataframe tbody tr th {\n",
       "        vertical-align: top;\n",
       "    }\n",
       "\n",
       "    .dataframe thead th {\n",
       "        text-align: right;\n",
       "    }\n",
       "</style>\n",
       "<table border=\"1\" class=\"dataframe\">\n",
       "  <thead>\n",
       "    <tr style=\"text-align: right;\">\n",
       "      <th></th>\n",
       "      <th>0</th>\n",
       "      <th>1</th>\n",
       "      <th>2</th>\n",
       "      <th>3</th>\n",
       "      <th>4</th>\n",
       "      <th>5</th>\n",
       "      <th>6</th>\n",
       "      <th>7</th>\n",
       "      <th>8</th>\n",
       "      <th>9</th>\n",
       "      <th>...</th>\n",
       "      <th>179990</th>\n",
       "      <th>179991</th>\n",
       "      <th>179992</th>\n",
       "      <th>179993</th>\n",
       "      <th>179994</th>\n",
       "      <th>179995</th>\n",
       "      <th>179996</th>\n",
       "      <th>179997</th>\n",
       "      <th>179998</th>\n",
       "      <th>179999</th>\n",
       "    </tr>\n",
       "  </thead>\n",
       "  <tbody>\n",
       "  </tbody>\n",
       "</table>\n",
       "<p>0 rows × 180000 columns</p>\n",
       "</div>"
      ],
      "text/plain": [
       "Empty DataFrame\n",
       "Columns: [0, 1, 2, 3, 4, 5, 6, 7, 8, 9, 10, 11, 12, 13, 14, 15, 16, 17, 18, 19, 20, 21, 22, 23, 24, 25, 26, 27, 28, 29, 30, 31, 32, 33, 34, 35, 36, 37, 38, 39, 40, 41, 42, 43, 44, 45, 46, 47, 48, 49, 50, 51, 52, 53, 54, 55, 56, 57, 58, 59, 60, 61, 62, 63, 64, 65, 66, 67, 68, 69, 70, 71, 72, 73, 74, 75, 76, 77, 78, 79, 80, 81, 82, 83, 84, 85, 86, 87, 88, 89, 90, 91, 92, 93, 94, 95, 96, 97, 98, 99, ...]\n",
       "Index: []\n",
       "\n",
       "[0 rows x 180000 columns]"
      ]
     },
     "execution_count": 125,
     "metadata": {},
     "output_type": "execute_result"
    }
   ],
   "source": [
    "# create empty dataframe to store data later\n",
    "df = pd.DataFrame(columns=np.arange(200*300*3))\n",
    "df"
   ]
  },
  {
   "cell_type": "code",
   "execution_count": 126,
   "metadata": {
    "hidden": true
   },
   "outputs": [],
   "source": [
    "import glob, os"
   ]
  },
  {
   "cell_type": "code",
   "execution_count": 127,
   "metadata": {
    "hidden": true
   },
   "outputs": [],
   "source": [
    "# read all the rock .png files\n",
    "os.chdir(rock_dir)\n",
    "i = -1\n",
    "for image_path in glob.glob('*.png'):\n",
    "    i = i+1\n",
    "    image = imageio.imread(image_path)\n",
    "    \n",
    "    # check that the dimensions of the picture are ok\n",
    "    if (image.shape[0] != 200):\n",
    "        print ('Wrong height pixels')\n",
    "        break\n",
    "    elif (image.shape[1] != 300):\n",
    "        print ('Wrong width pixels')\n",
    "        break\n",
    "    elif (image.shape[2] != 3):\n",
    "        print ('Wrong # of colors')\n",
    "        break\n",
    "        \n",
    "    # flatten image array\n",
    "    image = image.flatten()\n",
    "    df.loc[i] = image"
   ]
  },
  {
   "cell_type": "code",
   "execution_count": 129,
   "metadata": {
    "hidden": true
   },
   "outputs": [],
   "source": [
    "# read all the paper .png files\n",
    "os.chdir(paper_dir)\n",
    "for image_path in glob.glob('*.png'):\n",
    "    i = i+1\n",
    "    image = imageio.imread(image_path)\n",
    "    \n",
    "    # check that the dimensions of the picture are ok\n",
    "    if (image.shape[0] != 200):\n",
    "        print ('Wrong height pixels')\n",
    "        break\n",
    "    elif (image.shape[1] != 300):\n",
    "        print ('Wrong width pixels')\n",
    "        break\n",
    "    elif (image.shape[2] != 3):\n",
    "        print ('Wrong # of colors')\n",
    "        break\n",
    "        \n",
    "    # flatten image array\n",
    "    image = image.flatten()\n",
    "    df.loc[i] = image"
   ]
  },
  {
   "cell_type": "code",
   "execution_count": 130,
   "metadata": {
    "hidden": true
   },
   "outputs": [],
   "source": [
    "# read all the scissor .png files\n",
    "os.chdir(scissors_dir)\n",
    "for image_path in glob.glob('*.png'):\n",
    "    i = i+1\n",
    "    image = imageio.imread(image_path)\n",
    "    \n",
    "    # check that the dimensions of the picture are ok\n",
    "    if (image.shape[0] != 200):\n",
    "        print ('Wrong height pixels')\n",
    "        break\n",
    "    elif (image.shape[1] != 300):\n",
    "        print ('Wrong width pixels')\n",
    "        break\n",
    "    elif (image.shape[2] != 3):\n",
    "        print ('Wrong # of colors')\n",
    "        break\n",
    "        \n",
    "    # flatten image array\n",
    "    image = image.flatten()\n",
    "    df.loc[i] = image"
   ]
  },
  {
   "cell_type": "code",
   "execution_count": 133,
   "metadata": {
    "hidden": true
   },
   "outputs": [],
   "source": [
    "df[\"class\"] = np.nan"
   ]
  },
  {
   "cell_type": "code",
   "execution_count": 131,
   "metadata": {
    "hidden": true
   },
   "outputs": [
    {
     "data": {
      "text/plain": [
       "(2188, 180000)"
      ]
     },
     "execution_count": 131,
     "metadata": {},
     "output_type": "execute_result"
    }
   ],
   "source": [
    "df.shape"
   ]
  },
  {
   "cell_type": "markdown",
   "metadata": {
    "hidden": true
   },
   "source": [
    "**Add classes to our samples.**\n",
    "- 1 -> rock\n",
    "- 2 -> paper\n",
    "- 3 -> scissors"
   ]
  },
  {
   "cell_type": "code",
   "execution_count": 142,
   "metadata": {
    "hidden": true
   },
   "outputs": [],
   "source": [
    "df.loc[0:725,'class'] = 1"
   ]
  },
  {
   "cell_type": "code",
   "execution_count": 143,
   "metadata": {
    "hidden": true
   },
   "outputs": [],
   "source": [
    "df.loc[726:1435,'class'] = 2"
   ]
  },
  {
   "cell_type": "code",
   "execution_count": 144,
   "metadata": {
    "hidden": true
   },
   "outputs": [],
   "source": [
    "df.loc[1436:2187,'class'] = 3"
   ]
  },
  {
   "cell_type": "code",
   "execution_count": 147,
   "metadata": {
    "hidden": true
   },
   "outputs": [],
   "source": [
    "df = df.sample(frac=1).reset_index(drop=True)"
   ]
  },
  {
   "cell_type": "code",
   "execution_count": 148,
   "metadata": {
    "hidden": true
   },
   "outputs": [
    {
     "data": {
      "text/html": [
       "<div>\n",
       "<style scoped>\n",
       "    .dataframe tbody tr th:only-of-type {\n",
       "        vertical-align: middle;\n",
       "    }\n",
       "\n",
       "    .dataframe tbody tr th {\n",
       "        vertical-align: top;\n",
       "    }\n",
       "\n",
       "    .dataframe thead th {\n",
       "        text-align: right;\n",
       "    }\n",
       "</style>\n",
       "<table border=\"1\" class=\"dataframe\">\n",
       "  <thead>\n",
       "    <tr style=\"text-align: right;\">\n",
       "      <th></th>\n",
       "      <th>0</th>\n",
       "      <th>1</th>\n",
       "      <th>2</th>\n",
       "      <th>3</th>\n",
       "      <th>4</th>\n",
       "      <th>5</th>\n",
       "      <th>6</th>\n",
       "      <th>7</th>\n",
       "      <th>8</th>\n",
       "      <th>9</th>\n",
       "      <th>...</th>\n",
       "      <th>179991</th>\n",
       "      <th>179992</th>\n",
       "      <th>179993</th>\n",
       "      <th>179994</th>\n",
       "      <th>179995</th>\n",
       "      <th>179996</th>\n",
       "      <th>179997</th>\n",
       "      <th>179998</th>\n",
       "      <th>179999</th>\n",
       "      <th>class</th>\n",
       "    </tr>\n",
       "  </thead>\n",
       "  <tbody>\n",
       "    <tr>\n",
       "      <th>0</th>\n",
       "      <td>34</td>\n",
       "      <td>118</td>\n",
       "      <td>33</td>\n",
       "      <td>34</td>\n",
       "      <td>118</td>\n",
       "      <td>33</td>\n",
       "      <td>31</td>\n",
       "      <td>115</td>\n",
       "      <td>30</td>\n",
       "      <td>34</td>\n",
       "      <td>...</td>\n",
       "      <td>43</td>\n",
       "      <td>122</td>\n",
       "      <td>41</td>\n",
       "      <td>43</td>\n",
       "      <td>122</td>\n",
       "      <td>41</td>\n",
       "      <td>46</td>\n",
       "      <td>120</td>\n",
       "      <td>41</td>\n",
       "      <td>3.0</td>\n",
       "    </tr>\n",
       "    <tr>\n",
       "      <th>1</th>\n",
       "      <td>13</td>\n",
       "      <td>105</td>\n",
       "      <td>32</td>\n",
       "      <td>13</td>\n",
       "      <td>109</td>\n",
       "      <td>33</td>\n",
       "      <td>11</td>\n",
       "      <td>107</td>\n",
       "      <td>32</td>\n",
       "      <td>11</td>\n",
       "      <td>...</td>\n",
       "      <td>3</td>\n",
       "      <td>80</td>\n",
       "      <td>11</td>\n",
       "      <td>2</td>\n",
       "      <td>79</td>\n",
       "      <td>10</td>\n",
       "      <td>2</td>\n",
       "      <td>76</td>\n",
       "      <td>10</td>\n",
       "      <td>1.0</td>\n",
       "    </tr>\n",
       "    <tr>\n",
       "      <th>2</th>\n",
       "      <td>16</td>\n",
       "      <td>96</td>\n",
       "      <td>18</td>\n",
       "      <td>16</td>\n",
       "      <td>99</td>\n",
       "      <td>19</td>\n",
       "      <td>16</td>\n",
       "      <td>102</td>\n",
       "      <td>18</td>\n",
       "      <td>18</td>\n",
       "      <td>...</td>\n",
       "      <td>14</td>\n",
       "      <td>92</td>\n",
       "      <td>11</td>\n",
       "      <td>14</td>\n",
       "      <td>92</td>\n",
       "      <td>11</td>\n",
       "      <td>13</td>\n",
       "      <td>88</td>\n",
       "      <td>10</td>\n",
       "      <td>3.0</td>\n",
       "    </tr>\n",
       "    <tr>\n",
       "      <th>3</th>\n",
       "      <td>35</td>\n",
       "      <td>120</td>\n",
       "      <td>37</td>\n",
       "      <td>36</td>\n",
       "      <td>122</td>\n",
       "      <td>38</td>\n",
       "      <td>31</td>\n",
       "      <td>117</td>\n",
       "      <td>34</td>\n",
       "      <td>32</td>\n",
       "      <td>...</td>\n",
       "      <td>41</td>\n",
       "      <td>124</td>\n",
       "      <td>42</td>\n",
       "      <td>42</td>\n",
       "      <td>125</td>\n",
       "      <td>43</td>\n",
       "      <td>42</td>\n",
       "      <td>120</td>\n",
       "      <td>41</td>\n",
       "      <td>2.0</td>\n",
       "    </tr>\n",
       "    <tr>\n",
       "      <th>4</th>\n",
       "      <td>38</td>\n",
       "      <td>116</td>\n",
       "      <td>40</td>\n",
       "      <td>37</td>\n",
       "      <td>117</td>\n",
       "      <td>40</td>\n",
       "      <td>34</td>\n",
       "      <td>115</td>\n",
       "      <td>38</td>\n",
       "      <td>37</td>\n",
       "      <td>...</td>\n",
       "      <td>41</td>\n",
       "      <td>124</td>\n",
       "      <td>46</td>\n",
       "      <td>41</td>\n",
       "      <td>124</td>\n",
       "      <td>46</td>\n",
       "      <td>42</td>\n",
       "      <td>120</td>\n",
       "      <td>43</td>\n",
       "      <td>2.0</td>\n",
       "    </tr>\n",
       "  </tbody>\n",
       "</table>\n",
       "<p>5 rows × 180001 columns</p>\n",
       "</div>"
      ],
      "text/plain": [
       "    0    1   2   3    4   5   6    7   8   9  ... 179991 179992 179993 179994  \\\n",
       "0  34  118  33  34  118  33  31  115  30  34  ...     43    122     41     43   \n",
       "1  13  105  32  13  109  33  11  107  32  11  ...      3     80     11      2   \n",
       "2  16   96  18  16   99  19  16  102  18  18  ...     14     92     11     14   \n",
       "3  35  120  37  36  122  38  31  117  34  32  ...     41    124     42     42   \n",
       "4  38  116  40  37  117  40  34  115  38  37  ...     41    124     46     41   \n",
       "\n",
       "  179995 179996 179997 179998 179999 class  \n",
       "0    122     41     46    120     41   3.0  \n",
       "1     79     10      2     76     10   1.0  \n",
       "2     92     11     13     88     10   3.0  \n",
       "3    125     43     42    120     41   2.0  \n",
       "4    124     46     42    120     43   2.0  \n",
       "\n",
       "[5 rows x 180001 columns]"
      ]
     },
     "execution_count": 148,
     "metadata": {},
     "output_type": "execute_result"
    }
   ],
   "source": [
    "df.head()"
   ]
  },
  {
   "cell_type": "code",
   "execution_count": 149,
   "metadata": {
    "hidden": true
   },
   "outputs": [],
   "source": [
    "# change direction to current folder\n",
    "os.chdir(r\"C:\\Users\\pgrig\\Desktop\\gitglob\\Rock_Paper_Scizors\")"
   ]
  },
  {
   "cell_type": "code",
   "execution_count": 150,
   "metadata": {
    "hidden": true
   },
   "outputs": [],
   "source": [
    "df.to_csv('data_with_classes_shuffled.csv')"
   ]
  },
  {
   "cell_type": "code",
   "execution_count": null,
   "metadata": {
    "hidden": true
   },
   "outputs": [],
   "source": []
  },
  {
   "cell_type": "code",
   "execution_count": 151,
   "metadata": {
    "hidden": true
   },
   "outputs": [],
   "source": [
    "X = df.values"
   ]
  },
  {
   "cell_type": "code",
   "execution_count": 165,
   "metadata": {
    "hidden": true
   },
   "outputs": [
    {
     "data": {
      "text/plain": [
       "array([[34, 118, 33, ..., 120, 41, 3.0],\n",
       "       [13, 105, 32, ..., 76, 10, 1.0],\n",
       "       [16, 96, 18, ..., 88, 10, 3.0],\n",
       "       ...,\n",
       "       [47, 145, 62, ..., 147, 62, 1.0],\n",
       "       [48, 141, 58, ..., 149, 68, 2.0],\n",
       "       [47, 133, 52, ..., 144, 60, 1.0]], dtype=object)"
      ]
     },
     "execution_count": 165,
     "metadata": {},
     "output_type": "execute_result"
    }
   ],
   "source": [
    "X"
   ]
  },
  {
   "cell_type": "code",
   "execution_count": 183,
   "metadata": {
    "hidden": true
   },
   "outputs": [
    {
     "data": {
      "text/plain": [
       "(2188, 180000)"
      ]
     },
     "execution_count": 183,
     "metadata": {},
     "output_type": "execute_result"
    }
   ],
   "source": [
    "X.shape"
   ]
  },
  {
   "cell_type": "markdown",
   "metadata": {
    "hidden": true
   },
   "source": [
    "**Split X,y and reshape X**"
   ]
  },
  {
   "cell_type": "code",
   "execution_count": 178,
   "metadata": {
    "hidden": true
   },
   "outputs": [
    {
     "data": {
      "text/plain": [
       "array([3.0, 1.0, 3.0, ..., 1.0, 2.0, 1.0], dtype=object)"
      ]
     },
     "execution_count": 178,
     "metadata": {},
     "output_type": "execute_result"
    }
   ],
   "source": [
    "y = X[:,-1]\n",
    "y"
   ]
  },
  {
   "cell_type": "code",
   "execution_count": 179,
   "metadata": {
    "hidden": true
   },
   "outputs": [],
   "source": [
    "X = X[:,:-1]"
   ]
  },
  {
   "cell_type": "code",
   "execution_count": 185,
   "metadata": {
    "hidden": true
   },
   "outputs": [],
   "source": [
    "X = X.reshape(2188, 200, 300, 3)"
   ]
  },
  {
   "cell_type": "code",
   "execution_count": 190,
   "metadata": {
    "hidden": true
   },
   "outputs": [],
   "source": [
    "X = X.astype(float)"
   ]
  },
  {
   "cell_type": "markdown",
   "metadata": {
    "hidden": true
   },
   "source": [
    "Plot one example image"
   ]
  },
  {
   "cell_type": "code",
   "execution_count": 191,
   "metadata": {
    "hidden": true
   },
   "outputs": [],
   "source": [
    "import matplotlib.pyplot as plt\n",
    "%matplotlib inline"
   ]
  },
  {
   "cell_type": "code",
   "execution_count": 194,
   "metadata": {
    "hidden": true
   },
   "outputs": [
    {
     "data": {
      "text/plain": [
       "<matplotlib.image.AxesImage at 0x1f5035d97f0>"
      ]
     },
     "execution_count": 194,
     "metadata": {},
     "output_type": "execute_result"
    },
    {
     "data": {
      "image/png": "[encoded data removed]",
      "text/plain": [
       "<Figure size 432x288 with 1 Axes>"
      ]
     },
     "metadata": {
      "needs_background": "light"
     },
     "output_type": "display_data"
    }
   ],
   "source": [
    "plt.imshow(X[0][:,:,:].astype('uint8'))"
   ]
  },
  {
   "cell_type": "code",
   "execution_count": null,
   "metadata": {
    "hidden": true
   },
   "outputs": [],
   "source": []
  },
  {
   "cell_type": "code",
   "execution_count": null,
   "metadata": {
    "hidden": true
   },
   "outputs": [],
   "source": []
  },
  {
   "cell_type": "markdown",
   "metadata": {},
   "source": [
    "# Read data with Data Generator.flow_from_directory"
   ]
  },
  {
   "cell_type": "code",
   "execution_count": 2,
   "metadata": {},
   "outputs": [
    {
     "name": "stderr",
     "output_type": "stream",
     "text": [
      "Using TensorFlow backend.\n"
     ]
    }
   ],
   "source": [
    "from keras.preprocessing.image import ImageDataGenerator"
   ]
  },
  {
   "cell_type": "code",
   "execution_count": 3,
   "metadata": {},
   "outputs": [],
   "source": [
    "pixel_size = (200,300)"
   ]
  },
  {
   "cell_type": "code",
   "execution_count": 4,
   "metadata": {},
   "outputs": [],
   "source": [
    "batch_size = 8"
   ]
  },
  {
   "cell_type": "code",
   "execution_count": 5,
   "metadata": {},
   "outputs": [],
   "source": [
    "data_dir = r\"C:\\Users\\pgrig\\Desktop\\gitglob\\Rock_Paper_Scizors\\data\""
   ]
  },
  {
   "cell_type": "code",
   "execution_count": 6,
   "metadata": {},
   "outputs": [],
   "source": [
    "# create data generator\n",
    "data_gen = ImageDataGenerator(\n",
    "    featurewise_center = False,\n",
    "    samplewise_center = False,\n",
    "    featurewise_std_normalization = False,\n",
    "    samplewise_std_normalization = False,\n",
    "    zca_whitening = False,\n",
    "    rotation_range = 0,\n",
    "    width_shift_range = 0,\n",
    "    height_shift_range = 0,\n",
    "    brightness_range = [1, 1],\n",
    "    shear_range = 0,\n",
    "    zoom_range = [1, 1],\n",
    "    fill_mode = 'nearest',\n",
    "    horizontal_flip = True,\n",
    "    vertical_flip = True,\n",
    "    rescale = 1./255, # normalization\n",
    "    validation_split = 0.2\n",
    ")"
   ]
  },
  {
   "cell_type": "code",
   "execution_count": 7,
   "metadata": {},
   "outputs": [
    {
     "name": "stdout",
     "output_type": "stream",
     "text": [
      "Found 1751 images belonging to 3 classes.\n"
     ]
    }
   ],
   "source": [
    "train_gen = data_gen.flow_from_directory(\n",
    "    data_dir,\n",
    "    target_size = pixel_size,\n",
    "    color_mode = \"rgb\", # \"grayscale\" = black/white\n",
    "    batch_size = batch_size,\n",
    "    # save_to_dir = r\"C:\\Users\\pgrig\\Desktop\\gitglob\\Rock_Paper_Scizors\\aug_train_data\",\n",
    "    class_mode = \"categorical\",\n",
    "    shuffle = True,\n",
    "    seed = random_seed,\n",
    "    subset = \"training\"\n",
    ")"
   ]
  },
  {
   "cell_type": "code",
   "execution_count": 8,
   "metadata": {},
   "outputs": [
    {
     "name": "stdout",
     "output_type": "stream",
     "text": [
      "Found 437 images belonging to 3 classes.\n"
     ]
    }
   ],
   "source": [
    "val_gen = data_gen.flow_from_directory(\n",
    "    data_dir,\n",
    "    target_size = pixel_size, # make our images smaller\n",
    "    color_mode = \"rgb\", # \"grayscale\" = black/white\n",
    "    batch_size = batch_size,\n",
    "    # save_to_dir = r\"C:\\Users\\pgrig\\Desktop\\gitglob\\Rock_Paper_Scizors\\aug_val_data\",\n",
    "    class_mode = 'categorical',\n",
    "    shuffle= False,\n",
    "    seed = random_seed,\n",
    "    subset = 'validation'\n",
    ")"
   ]
  },
  {
   "cell_type": "code",
   "execution_count": null,
   "metadata": {},
   "outputs": [],
   "source": []
  },
  {
   "cell_type": "code",
   "execution_count": null,
   "metadata": {},
   "outputs": [],
   "source": []
  },
  {
   "cell_type": "markdown",
   "metadata": {},
   "source": [
    "# Create CNN"
   ]
  },
  {
   "cell_type": "code",
   "execution_count": 53,
   "metadata": {},
   "outputs": [],
   "source": [
    "input_shape = (200,300,3)\n",
    "epochs = 20"
   ]
  },
  {
   "cell_type": "code",
   "execution_count": 54,
   "metadata": {},
   "outputs": [],
   "source": [
    "from keras import models\n",
    "from keras import layers"
   ]
  },
  {
   "cell_type": "code",
   "execution_count": 55,
   "metadata": {},
   "outputs": [],
   "source": [
    "# basis of convolutional network\n",
    "model = models.Sequential()\n",
    "model.add(layers.Conv2D(filters=32, kernel_size=(3, 3), padding='same', activation='relu', input_shape=input_shape))\n",
    "model.add(layers.Conv2D(filters=32, kernel_size=(3, 3), padding='same', activation='relu', input_shape=input_shape))\n",
    "model.add(layers.MaxPooling2D(pool_size=(2, 2)))\n",
    "model.add(layers.Conv2D(filters=32, kernel_size=(3, 3), padding='same', activation='relu', input_shape=input_shape))\n",
    "model.add(layers.Conv2D(filters=32, kernel_size=(3, 3), padding='same', activation='relu', input_shape=input_shape))\n",
    "model.add(layers.Conv2D(filters=32, kernel_size=(3, 3), padding='same', activation='relu', input_shape=input_shape))\n",
    "model.add(layers.MaxPooling2D(pool_size=(2, 2)))"
   ]
  },
  {
   "cell_type": "code",
   "execution_count": 56,
   "metadata": {},
   "outputs": [],
   "source": [
    "# pass to fully connected layer\n",
    "model.add(layers.Flatten())\n",
    "model.add(layers.Dense(128, activation='relu'))\n",
    "model.add(layers.Dense(64, activation='relu'))\n",
    "#model.add(layers.Dropout(0.5))\n",
    "model.add(layers.Dense(3, activation='softmax'))"
   ]
  },
  {
   "cell_type": "code",
   "execution_count": 57,
   "metadata": {},
   "outputs": [
    {
     "name": "stdout",
     "output_type": "stream",
     "text": [
      "_________________________________________________________________\n",
      "Layer (type)                 Output Shape              Param #   \n",
      "=================================================================\n",
      "conv2d_14 (Conv2D)           (None, 200, 300, 32)      896       \n",
      "_________________________________________________________________\n",
      "conv2d_15 (Conv2D)           (None, 200, 300, 32)      9248      \n",
      "_________________________________________________________________\n",
      "max_pooling2d_14 (MaxPooling (None, 100, 150, 32)      0         \n",
      "_________________________________________________________________\n",
      "conv2d_16 (Conv2D)           (None, 100, 150, 32)      9248      \n",
      "_________________________________________________________________\n",
      "conv2d_17 (Conv2D)           (None, 100, 150, 32)      9248      \n",
      "_________________________________________________________________\n",
      "conv2d_18 (Conv2D)           (None, 100, 150, 32)      9248      \n",
      "_________________________________________________________________\n",
      "max_pooling2d_15 (MaxPooling (None, 50, 75, 32)        0         \n",
      "_________________________________________________________________\n",
      "flatten_5 (Flatten)          (None, 120000)            0         \n",
      "_________________________________________________________________\n",
      "dense_12 (Dense)             (None, 128)               15360128  \n",
      "_________________________________________________________________\n",
      "dense_13 (Dense)             (None, 64)                8256      \n",
      "_________________________________________________________________\n",
      "dense_14 (Dense)             (None, 3)                 195       \n",
      "=================================================================\n",
      "Total params: 15,406,467\n",
      "Trainable params: 15,406,467\n",
      "Non-trainable params: 0\n",
      "_________________________________________________________________\n"
     ]
    }
   ],
   "source": [
    "model.summary()"
   ]
  },
  {
   "cell_type": "code",
   "execution_count": 58,
   "metadata": {},
   "outputs": [],
   "source": [
    "# 97%\n",
    "if (0):\n",
    "    # basis of convolutional network\n",
    "    model = models.Sequential()\n",
    "    model.add(layers.Conv2D(filters=32, kernel_size=(3, 3), padding='same', activation='relu', input_shape=input_shape))\n",
    "    model.add(layers.MaxPooling2D(pool_size=(2, 2)))\n",
    "    model.add(layers.Conv2D(filters=32, kernel_size=(3, 3), padding='same', activation='relu', input_shape=input_shape))\n",
    "    model.add(layers.MaxPooling2D(pool_size=(2, 2)))\n",
    "    model.add(layers.Conv2D(filters=16, kernel_size=(3, 3), padding='same', activation='relu', input_shape=input_shape))\n",
    "    model.add(layers.MaxPooling2D(pool_size=(2, 2)))\n",
    "    # pass to fully connected layer\n",
    "    model.add(layers.Flatten())\n",
    "    model.add(layers.Dense(32, activation='relu'))\n",
    "    #model.add(layers.Dropout(0.5))\n",
    "    model.add(layers.Dense(3, activation='softmax'))\n",
    "    \n",
    "    # reducing factor = 0.2"
   ]
  },
  {
   "cell_type": "code",
   "execution_count": 59,
   "metadata": {},
   "outputs": [],
   "source": [
    "from keras import optimizers"
   ]
  },
  {
   "cell_type": "code",
   "execution_count": 60,
   "metadata": {},
   "outputs": [],
   "source": [
    "optimizer = optimizers.Adam(lr=0.001, beta_1=0.9, beta_2=0.999, amsgrad=False)"
   ]
  },
  {
   "cell_type": "code",
   "execution_count": 61,
   "metadata": {},
   "outputs": [],
   "source": [
    "# Compile the model\n",
    "model.compile(optimizer = 'Adam',\n",
    "              loss = \"categorical_crossentropy\", \n",
    "              metrics=[\"accuracy\"])"
   ]
  },
  {
   "cell_type": "code",
   "execution_count": 62,
   "metadata": {},
   "outputs": [],
   "source": [
    "from keras.callbacks import ReduceLROnPlateau"
   ]
  },
  {
   "cell_type": "code",
   "execution_count": 63,
   "metadata": {},
   "outputs": [],
   "source": [
    "# Define callback for learning rate reduction\n",
    "reduce_lr = ReduceLROnPlateau(monitor='val_acc', \n",
    "                              factor=0.2,\n",
    "                              patience=2, \n",
    "                              verbose=1,\n",
    "                              mode = 'max',\n",
    "                              min_lr=0.0000001)"
   ]
  },
  {
   "cell_type": "code",
   "execution_count": 64,
   "metadata": {},
   "outputs": [],
   "source": [
    "train_step = train_gen.n//train_gen.batch_size\n",
    "val_step = val_gen.n//val_gen.batch_size"
   ]
  },
  {
   "cell_type": "code",
   "execution_count": 65,
   "metadata": {},
   "outputs": [
    {
     "name": "stdout",
     "output_type": "stream",
     "text": [
      "Epoch 1/20\n",
      "218/218 [==============================] - 597s 3s/step - loss: 0.8305 - acc: 0.6018 - val_loss: 0.6447 - val_acc: 0.7389\n",
      "Epoch 2/20\n",
      "218/218 [==============================] - 610s 3s/step - loss: 0.3987 - acc: 0.8561 - val_loss: 0.4119 - val_acc: 0.8485\n",
      "Epoch 3/20\n",
      "218/218 [==============================] - 932s 4s/step - loss: 0.2874 - acc: 0.8967 - val_loss: 0.2364 - val_acc: 0.9231\n",
      "Epoch 4/20\n",
      "218/218 [==============================] - 603s 3s/step - loss: 0.2042 - acc: 0.9305 - val_loss: 0.1325 - val_acc: 0.9510\n",
      "Epoch 5/20\n",
      "218/218 [==============================] - 604s 3s/step - loss: 0.1482 - acc: 0.9558 - val_loss: 0.1530 - val_acc: 0.9627\n",
      "Epoch 6/20\n",
      "218/218 [==============================] - 602s 3s/step - loss: 0.1286 - acc: 0.9540 - val_loss: 0.1308 - val_acc: 0.9487\n",
      "Epoch 7/20\n",
      "218/218 [==============================] - 604s 3s/step - loss: 0.0881 - acc: 0.9736 - val_loss: 0.0992 - val_acc: 0.9650\n",
      "Epoch 8/20\n",
      "218/218 [==============================] - 602s 3s/step - loss: 0.1022 - acc: 0.9685 - val_loss: 0.1694 - val_acc: 0.9464\n",
      "Epoch 9/20\n",
      "218/218 [==============================] - 602s 3s/step - loss: 0.0869 - acc: 0.9759 - val_loss: 0.1397 - val_acc: 0.9534\n",
      "\n",
      "Epoch 00009: ReduceLROnPlateau reducing learning rate to 0.0004000000189989805.\n",
      "Epoch 10/20\n",
      "218/218 [==============================] - 602s 3s/step - loss: 0.0373 - acc: 0.9891 - val_loss: 0.1044 - val_acc: 0.9744\n",
      "Epoch 11/20\n",
      "218/218 [==============================] - 602s 3s/step - loss: 0.0333 - acc: 0.9874 - val_loss: 0.1059 - val_acc: 0.9697\n",
      "Epoch 12/20\n",
      "218/218 [==============================] - 602s 3s/step - loss: 0.0201 - acc: 0.9920 - val_loss: 0.0959 - val_acc: 0.9697\n",
      "\n",
      "Epoch 00012: ReduceLROnPlateau reducing learning rate to 0.00016000000759959222.\n",
      "Epoch 13/20\n",
      "218/218 [==============================] - 601s 3s/step - loss: 0.0162 - acc: 0.9966 - val_loss: 0.0972 - val_acc: 0.9790\n",
      "Epoch 14/20\n",
      "218/218 [==============================] - 601s 3s/step - loss: 0.0080 - acc: 0.9977 - val_loss: 0.0738 - val_acc: 0.9744\n",
      "Epoch 15/20\n",
      "218/218 [==============================] - 601s 3s/step - loss: 0.0135 - acc: 0.9960 - val_loss: 0.0690 - val_acc: 0.9814\n",
      "Epoch 16/20\n",
      "218/218 [==============================] - 600s 3s/step - loss: 0.0077 - acc: 0.9983 - val_loss: 0.0762 - val_acc: 0.9814\n",
      "Epoch 17/20\n",
      "218/218 [==============================] - 601s 3s/step - loss: 0.0014 - acc: 1.0000 - val_loss: 0.0941 - val_acc: 0.9767\n",
      "\n",
      "Epoch 00017: ReduceLROnPlateau reducing learning rate to 6.40000042039901e-05.\n",
      "Epoch 18/20\n",
      "218/218 [==============================] - 600s 3s/step - loss: 0.0077 - acc: 0.9977 - val_loss: 0.0884 - val_acc: 0.9767\n",
      "Epoch 19/20\n",
      "218/218 [==============================] - 600s 3s/step - loss: 0.0042 - acc: 0.9994 - val_loss: 0.0511 - val_acc: 0.9837\n",
      "Epoch 20/20\n",
      "218/218 [==============================] - 600s 3s/step - loss: 0.0012 - acc: 1.0000 - val_loss: 0.0824 - val_acc: 0.9790\n"
     ]
    }
   ],
   "source": [
    "# fit model\n",
    "history = model.fit_generator(\n",
    "    generator = train_gen, \n",
    "    steps_per_epoch  = train_step, \n",
    "    validation_data  = val_gen,\n",
    "    validation_steps = val_step,\n",
    "    epochs = epochs, \n",
    "    verbose = 1,\n",
    "    callbacks = [reduce_lr]\n",
    ")"
   ]
  },
  {
   "cell_type": "code",
   "execution_count": 66,
   "metadata": {},
   "outputs": [
    {
     "name": "stdout",
     "output_type": "stream",
     "text": [
      "Validation Loss: 0.06480323145026914\n",
      "Validation Accuracy: 98.36829836829837 %\n"
     ]
    }
   ],
   "source": [
    "# evaluate model\n",
    "val_loss, val_acc = model.evaluate_generator(generator = val_gen,\n",
    "                         steps = val_step)\n",
    "print (\"Validation Loss:\", val_loss)\n",
    "print (\"Validation Accuracy: {} %\".format(100*val_acc))"
   ]
  },
  {
   "cell_type": "code",
   "execution_count": null,
   "metadata": {},
   "outputs": [],
   "source": []
  },
  {
   "cell_type": "code",
   "execution_count": null,
   "metadata": {},
   "outputs": [],
   "source": []
  },
  {
   "cell_type": "code",
   "execution_count": null,
   "metadata": {},
   "outputs": [],
   "source": []
  },
  {
   "cell_type": "markdown",
   "metadata": {},
   "source": [
    "# Plot accuracy and loss graphs"
   ]
  },
  {
   "cell_type": "code",
   "execution_count": 67,
   "metadata": {},
   "outputs": [],
   "source": [
    "import matplotlib.pyplot as plt\n",
    "%matplotlib inline"
   ]
  },
  {
   "cell_type": "code",
   "execution_count": 68,
   "metadata": {},
   "outputs": [
    {
     "data": {
      "image/png": "[encoded data removed]",
      "text/plain": [
       "<Figure size 432x288 with 2 Axes>"
      ]
     },
     "metadata": {
      "needs_background": "light"
     },
     "output_type": "display_data"
    }
   ],
   "source": [
    "# Plot the loss and accuracy curves for training and validation \n",
    "fig, ax = plt.subplots(2,1)\n",
    "\n",
    "ax[0].plot(history.history['loss'], color='b', label=\"Training loss\")\n",
    "ax[0].plot(history.history['val_loss'], color='r', label=\"validation loss\",axes =ax[0])\n",
    "legend = ax[0].legend(loc='best', shadow=True)\n",
    "\n",
    "ax[1].plot(history.history['acc'], color='b', label=\"Training accuracy\")\n",
    "ax[1].plot(history.history['val_acc'], color='r',label=\"Validation accuracy\")\n",
    "legend = ax[1].legend(loc='best', shadow=True)"
   ]
  },
  {
   "cell_type": "code",
   "execution_count": null,
   "metadata": {},
   "outputs": [],
   "source": []
  },
  {
   "cell_type": "code",
   "execution_count": null,
   "metadata": {},
   "outputs": [],
   "source": []
  },
  {
   "cell_type": "code",
   "execution_count": null,
   "metadata": {},
   "outputs": [],
   "source": []
  }
 ],
 "metadata": {
  "kernelspec": {
   "display_name": "Python 3",
   "language": "python",
   "name": "python3"
  },
  "language_info": {
   "codemirror_mode": {
    "name": "ipython",
    "version": 3
   },
   "file_extension": ".py",
   "mimetype": "text/x-python",
   "name": "python",
   "nbconvert_exporter": "python",
   "pygments_lexer": "ipython3",
   "version": "3.6.8"
  },
  "toc": {
   "base_numbering": 1,
   "nav_menu": {},
   "number_sections": true,
   "sideBar": true,
   "skip_h1_title": false,
   "title_cell": "Table of Contents",
   "title_sidebar": "Contents",
   "toc_cell": false,
   "toc_position": {},
   "toc_section_display": true,
   "toc_window_display": false
  }
 },
 "nbformat": 4,
 "nbformat_minor": 2
}
